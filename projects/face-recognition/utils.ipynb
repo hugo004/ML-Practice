{
 "cells": [
  {
   "cell_type": "code",
   "execution_count": 84,
   "metadata": {},
   "outputs": [],
   "source": [
    "import os\n",
    "import cv2\n",
    "import datetime\n",
    "import mediapipe as mp\n",
    "\n",
    "from glob import glob\n",
    "from matplotlib import pyplot as plt"
   ]
  },
  {
   "cell_type": "code",
   "execution_count": 88,
   "metadata": {},
   "outputs": [],
   "source": [
    "mp_face_detection = mp.solutions.face_detection\n",
    "\n",
    "def crop_face(image, mp_bouding_box):\n",
    "    if mp_bouding_box is None:\n",
    "        return image\n",
    "    \n",
    "    height, width, _ = image.shape\n",
    "    \n",
    "    # bouding box contains negative number in some cases\n",
    "    x = abs(int(mp_bouding_box.xmin * width))\n",
    "    y = abs(int(mp_bouding_box.ymin * height))\n",
    "    w = abs(int(mp_bouding_box.width * width) + x)\n",
    "    h = abs(int(mp_bouding_box.height * height) + y)\n",
    "\n",
    "    face_img = image[y:h, x:w]\n",
    "    \n",
    "    return face_img\n",
    "\n",
    "\n",
    "def detect_and_crop_face(image):\n",
    "    faces = []\n",
    "    with mp_face_detection.FaceDetection(model_selection=1, min_detection_confidence=0.5) as face_detection:\n",
    "        image = cv2.cvtColor(image, cv2.COLOR_BGR2RGB)\n",
    "        results = face_detection.process(image)\n",
    "        \n",
    "        if results.detections:        \n",
    "            for detection in results.detections:\n",
    "                rect = detection.location_data.relative_bounding_box\n",
    "                face_img = crop_face(image, rect)\n",
    "                faces.append(face_img)\n",
    "        \n",
    "    return faces\n",
    "\n",
    "        \n",
    "def save_face(file_path: str, output_dir: str, file_type='jpg'):\n",
    "    # mediapip produce more accuracy result\n",
    "    with mp_face_detection.FaceDetection(model_selection=1, min_detection_confidence=0.5) as face_detection:\n",
    "        for idx, file_path in enumerate(glob(f'{file_path}/*')):\n",
    "            name = str(idx)\n",
    "            image = cv2.imread(file_path)\n",
    "            image = cv2.cvtColor(image, cv2.COLOR_BGR2RGB)\n",
    "            results = face_detection.process(image)\n",
    "            \n",
    "            if not results.detections:\n",
    "                continue\n",
    "            \n",
    "            for detection in results.detections:\n",
    "                rect = detection.location_data.relative_bounding_box\n",
    "                face_img = crop_face(image, rect)\n",
    "                \n",
    "                if not os.path.exists(output_dir):\n",
    "                    os.makedirs(output_dir)\n",
    "                \n",
    "                \n",
    "                cv2.imwrite(output_dir + name + '.jpg', cv2.cvtColor(face_img, cv2.COLOR_BGR2RGB))\n",
    "                \n",
    "    \n",
    "                "
   ]
  },
  {
   "cell_type": "code",
   "execution_count": 89,
   "metadata": {},
   "outputs": [],
   "source": [
    "save_face('./dataset/train/johnwick/', './crop/johnwick/')\n",
    "save_face('./dataset/train/ironman/', './crop/iroman/')\n",
    "\n"
   ]
  }
 ],
 "metadata": {
  "kernelspec": {
   "display_name": "Python 3",
   "language": "python",
   "name": "python3"
  },
  "language_info": {
   "codemirror_mode": {
    "name": "ipython",
    "version": 3
   },
   "file_extension": ".py",
   "mimetype": "text/x-python",
   "name": "python",
   "nbconvert_exporter": "python",
   "pygments_lexer": "ipython3",
   "version": "3.9.13 | packaged by conda-forge | (main, May 27 2022, 17:00:33) \n[Clang 13.0.1 ]"
  },
  "orig_nbformat": 4,
  "vscode": {
   "interpreter": {
    "hash": "22d82af33f03da296223e6f809e18aa0877c44b8d18707f5a9076a6c9918bbd4"
   }
  }
 },
 "nbformat": 4,
 "nbformat_minor": 2
}
