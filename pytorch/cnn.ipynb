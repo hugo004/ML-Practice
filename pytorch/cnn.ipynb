{
 "cells": [
  {
   "cell_type": "code",
   "execution_count": 4,
   "metadata": {},
   "outputs": [],
   "source": [
    "import torch\n",
    "import torch.nn as nn\n",
    "import torchvision\n",
    "import torchvision.transforms as transforms\n",
    "from torch.utils.data import DataLoader\n"
   ]
  },
  {
   "cell_type": "code",
   "execution_count": 3,
   "metadata": {},
   "outputs": [],
   "source": [
    "device = torch.device('cuda' if torch.cuda.is_available() else 'cpu')\n",
    "num_classes = 10\n",
    "input_size = 784\n",
    "epochs = 2\n",
    "learning_rate = 0.01\n",
    "batch_size = 64"
   ]
  },
  {
   "cell_type": "code",
   "execution_count": 28,
   "metadata": {},
   "outputs": [],
   "source": [
    "class Normalize:\n",
    "    def __call__(self, samples):\n",
    "        print(torch.max(samples, 1))\n",
    "        inputs = samples\n",
    "        inputs = inputs / 255.0\n",
    "        print(torch.max(inputs, 1))\n",
    "        return inputs\n",
    "        \n",
    "    \n",
    "transform = transforms.Compose([\n",
    "    transforms.ToTensor(),\n",
    "    # Normalize()\n",
    "])\n",
    "train_datasets = torchvision.datasets.MNIST(root='./datasets/', train=True, transform=transform)\n",
    "test_datasets = torchvision.datasets.MNIST(root='./datasets/', train=False, transform=transform)\n",
    "\n",
    "train_loader = DataLoader(train_datasets, batch_size=batch_size, shuffle=True)\n",
    "test_loader = DataLoader(test_datasets, batch_size=batch_size, shuffle=True)"
   ]
  },
  {
   "cell_type": "code",
   "execution_count": 79,
   "metadata": {},
   "outputs": [],
   "source": [
    "class CNN(nn.Module):\n",
    "    def __init__(self, in_channels: int, out_channels: int, kernel_size: tuple) -> None:\n",
    "        super(CNN, self).__init__()\n",
    "        self.cnn1 = nn.Sequential(\n",
    "            nn.Conv2d(in_channels=in_channels, out_channels=16,\n",
    "                        padding=0, kernel_size=kernel_size,  stride=1),\n",
    "            nn.ReLU(),\n",
    "            nn.MaxPool2d(kernel_size=(2, 2))\n",
    "        )\n",
    "        self.cnn2 = nn.Sequential(\n",
    "            nn.Conv2d(in_channels=16, out_channels=32,\n",
    "                        padding=0, kernel_size=kernel_size,  stride=1),\n",
    "            nn.ReLU(),\n",
    "            nn.MaxPool2d(kernel_size=(2, 2))\n",
    "        )\n",
    "        self.fc = nn.Linear(32*5*5, out_channels)\n",
    "        \n",
    "    def forward(self, x: torch.Tensor):\n",
    "        x = self.cnn1(x)\n",
    "        x = self.cnn2(x)\n",
    "        # flatten the output to batch size, 32x5x5\n",
    "        x = x.reshape((x.shape[0], -1))\n",
    "        x = self.fc(x)\n",
    "        \n",
    "        return x\n",
    "        "
   ]
  },
  {
   "cell_type": "code",
   "execution_count": 66,
   "metadata": {},
   "outputs": [],
   "source": [
    "examples = iter(train_loader)\n",
    "samples, labels = examples._next_data()"
   ]
  },
  {
   "cell_type": "code",
   "execution_count": 67,
   "metadata": {},
   "outputs": [
    {
     "data": {
      "text/plain": [
       "torch.Size([64, 1, 28, 28])"
      ]
     },
     "execution_count": 67,
     "metadata": {},
     "output_type": "execute_result"
    }
   ],
   "source": [
    "samples.shape"
   ]
  },
  {
   "cell_type": "code",
   "execution_count": 80,
   "metadata": {},
   "outputs": [],
   "source": [
    "    \n",
    "model = CNN(in_channels=1, out_channels=num_classes, kernel_size=(3, 3))\n",
    "criterion = nn.CrossEntropyLoss()\n",
    "optimizer = torch.optim.Adam(model.parameters(), lr=learning_rate)\n",
    "\n",
    "test = model(samples)"
   ]
  },
  {
   "cell_type": "code",
   "execution_count": 81,
   "metadata": {},
   "outputs": [
    {
     "name": "stdout",
     "output_type": "stream",
     "text": [
      "epoch 1 / 2, step 100 / 938, loss = 0.2328\n",
      "epoch 1 / 2, step 200 / 938, loss = 0.0893\n",
      "epoch 1 / 2, step 300 / 938, loss = 0.0323\n",
      "epoch 1 / 2, step 400 / 938, loss = 0.1085\n",
      "epoch 1 / 2, step 500 / 938, loss = 0.1349\n",
      "epoch 1 / 2, step 600 / 938, loss = 0.0525\n",
      "epoch 1 / 2, step 700 / 938, loss = 0.0700\n",
      "epoch 1 / 2, step 800 / 938, loss = 0.2278\n",
      "epoch 1 / 2, step 900 / 938, loss = 0.1083\n",
      "epoch 2 / 2, step 100 / 938, loss = 0.0272\n",
      "epoch 2 / 2, step 200 / 938, loss = 0.0248\n",
      "epoch 2 / 2, step 300 / 938, loss = 0.0426\n",
      "epoch 2 / 2, step 400 / 938, loss = 0.0212\n",
      "epoch 2 / 2, step 500 / 938, loss = 0.0326\n",
      "epoch 2 / 2, step 600 / 938, loss = 0.0480\n",
      "epoch 2 / 2, step 700 / 938, loss = 0.0030\n",
      "epoch 2 / 2, step 800 / 938, loss = 0.0564\n",
      "epoch 2 / 2, step 900 / 938, loss = 0.0200\n"
     ]
    }
   ],
   "source": [
    "# training loop\n",
    "total_steps = len(train_loader)\n",
    "for epoch in range(epochs):\n",
    "    for idx, (images, labels) in enumerate(train_loader):\n",
    "        images = images.to(device)\n",
    "        labels = labels.to(device)\n",
    "        \n",
    "        # forward\n",
    "        outputs = model(images)\n",
    "        loss = criterion(outputs, labels)\n",
    "        \n",
    "        # backward\n",
    "        optimizer.zero_grad()\n",
    "        loss.backward()\n",
    "        \n",
    "        # update weight\n",
    "        optimizer.step()\n",
    "        \n",
    "        \n",
    "        if (idx+1) % 100 == 0:\n",
    "            print(f\"epoch {epoch + 1} / {epochs}, step {idx+1} / {total_steps}, loss = {loss:.4f}\")\n",
    "            "
   ]
  },
  {
   "cell_type": "code",
   "execution_count": 82,
   "metadata": {},
   "outputs": [
    {
     "name": "stdout",
     "output_type": "stream",
     "text": [
      "accuracy = 98.35\n"
     ]
    }
   ],
   "source": [
    "with torch.no_grad():\n",
    "    n_corrects = 0\n",
    "    n_samples = 0\n",
    "    for images, labels in test_loader:\n",
    "        images = images.to(device)\n",
    "        labels = labels.to(device)\n",
    "        outputs = model(images)\n",
    "        \n",
    "        _, predictions = torch.max(outputs, 1)\n",
    "        n_samples += labels.shape[0] \n",
    "        n_corrects += (predictions == labels).sum().item()\n",
    "    \n",
    "    acc = n_corrects / n_samples * 100.0\n",
    "    print(f'accuracy = {acc:.2f}')"
   ]
  }
 ],
 "metadata": {
  "kernelspec": {
   "display_name": "ml-env",
   "language": "python",
   "name": "python3"
  },
  "language_info": {
   "codemirror_mode": {
    "name": "ipython",
    "version": 3
   },
   "file_extension": ".py",
   "mimetype": "text/x-python",
   "name": "python",
   "nbconvert_exporter": "python",
   "pygments_lexer": "ipython3",
   "version": "3.9.13"
  },
  "orig_nbformat": 4,
  "vscode": {
   "interpreter": {
    "hash": "22d82af33f03da296223e6f809e18aa0877c44b8d18707f5a9076a6c9918bbd4"
   }
  }
 },
 "nbformat": 4,
 "nbformat_minor": 2
}
