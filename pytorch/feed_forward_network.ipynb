{
 "cells": [
  {
   "cell_type": "code",
   "execution_count": 40,
   "metadata": {},
   "outputs": [],
   "source": [
    "import torch\n",
    "import torch.nn as nn\n",
    "import torchvision\n",
    "import torchvision.transforms as  transforms\n",
    "\n",
    "from torch.utils.data import DataLoader\n",
    "from matplotlib import pyplot as plt"
   ]
  },
  {
   "cell_type": "code",
   "execution_count": 41,
   "metadata": {},
   "outputs": [],
   "source": [
    "device = torch.device('cuda' if torch.cuda.is_available() else 'cpu')\n",
    "\n",
    "input_size = 784 # 28x28\n",
    "num_classes = 10\n",
    "epochs = 2\n",
    "learning_rate = 0.01\n",
    "batch_size = 32"
   ]
  },
  {
   "cell_type": "code",
   "execution_count": 42,
   "metadata": {},
   "outputs": [],
   "source": [
    "train_dataset = torchvision.datasets.MNIST(root='./datasets/', \n",
    "                                           train=True, \n",
    "                                           transform=transforms.ToTensor())\n",
    "test_dataset = torchvision.datasets.MNIST(root='./datasets/',\n",
    "                                          train=False,\n",
    "                                          transform=transforms.ToTensor())\n",
    "\n",
    "train_loader = DataLoader(train_dataset, batch_size=batch_size, shuffle=True)\n",
    "test_loader = DataLoader(test_dataset, batch_size=batch_size, shuffle=True)\n",
    "\n"
   ]
  },
  {
   "cell_type": "code",
   "execution_count": 43,
   "metadata": {},
   "outputs": [
    {
     "name": "stdout",
     "output_type": "stream",
     "text": [
      "torch.Size([32, 1, 28, 28])\n",
      "torch.Size([32])\n"
     ]
    }
   ],
   "source": [
    "examples = iter(train_loader)\n",
    "samples, labels = examples._next_data()\n",
    "print(samples.shape)\n",
    "print(labels.shape)"
   ]
  },
  {
   "cell_type": "code",
   "execution_count": 44,
   "metadata": {},
   "outputs": [
    {
     "data": {
      "image/png": "[encoded data removed]",
      "text/plain": [
       "<Figure size 640x480 with 4 Axes>"
      ]
     },
     "metadata": {},
     "output_type": "display_data"
    }
   ],
   "source": [
    "for i in range(4):\n",
    "    plt.subplot(2, 2, i+1)\n",
    "    plt.imshow(samples[i][0], cmap='gray')\n",
    "plt.show()\n"
   ]
  },
  {
   "cell_type": "code",
   "execution_count": 49,
   "metadata": {},
   "outputs": [
    {
     "name": "stdout",
     "output_type": "stream",
     "text": [
      "epoch 1 / 2, step 100 / 1875, loss = 0.2070\n",
      "epoch 1 / 2, step 200 / 1875, loss = 0.1295\n",
      "epoch 1 / 2, step 300 / 1875, loss = 0.3750\n",
      "epoch 1 / 2, step 400 / 1875, loss = 0.3037\n",
      "epoch 1 / 2, step 500 / 1875, loss = 0.1107\n",
      "epoch 1 / 2, step 600 / 1875, loss = 0.1606\n",
      "epoch 1 / 2, step 700 / 1875, loss = 0.2951\n",
      "epoch 1 / 2, step 800 / 1875, loss = 0.1418\n",
      "epoch 1 / 2, step 900 / 1875, loss = 0.0781\n",
      "epoch 1 / 2, step 1000 / 1875, loss = 0.0561\n",
      "epoch 1 / 2, step 1100 / 1875, loss = 0.2424\n",
      "epoch 1 / 2, step 1200 / 1875, loss = 0.1640\n",
      "epoch 1 / 2, step 1300 / 1875, loss = 0.2952\n",
      "epoch 1 / 2, step 1400 / 1875, loss = 0.3512\n",
      "epoch 1 / 2, step 1500 / 1875, loss = 0.1808\n",
      "epoch 1 / 2, step 1600 / 1875, loss = 0.0847\n",
      "epoch 1 / 2, step 1700 / 1875, loss = 0.1126\n",
      "epoch 1 / 2, step 1800 / 1875, loss = 0.1109\n",
      "epoch 2 / 2, step 100 / 1875, loss = 0.2055\n",
      "epoch 2 / 2, step 200 / 1875, loss = 0.2196\n",
      "epoch 2 / 2, step 300 / 1875, loss = 0.3050\n",
      "epoch 2 / 2, step 400 / 1875, loss = 0.1394\n",
      "epoch 2 / 2, step 500 / 1875, loss = 0.5257\n",
      "epoch 2 / 2, step 600 / 1875, loss = 0.0588\n",
      "epoch 2 / 2, step 700 / 1875, loss = 0.2585\n",
      "epoch 2 / 2, step 800 / 1875, loss = 0.1878\n",
      "epoch 2 / 2, step 900 / 1875, loss = 0.0689\n",
      "epoch 2 / 2, step 1000 / 1875, loss = 0.4764\n",
      "epoch 2 / 2, step 1100 / 1875, loss = 0.0966\n",
      "epoch 2 / 2, step 1200 / 1875, loss = 0.0930\n",
      "epoch 2 / 2, step 1300 / 1875, loss = 0.0943\n",
      "epoch 2 / 2, step 1400 / 1875, loss = 0.0829\n",
      "epoch 2 / 2, step 1500 / 1875, loss = 0.3090\n",
      "epoch 2 / 2, step 1600 / 1875, loss = 0.0115\n",
      "epoch 2 / 2, step 1700 / 1875, loss = 0.0392\n",
      "epoch 2 / 2, step 1800 / 1875, loss = 0.1774\n",
      "accuracy = 94.74\n"
     ]
    }
   ],
   "source": [
    "class NN(nn.Module):\n",
    "    def __init__(self, input_size: int, output_size: int, hidden_size: int) -> None:\n",
    "        super(NN, self).__init__()\n",
    "        self.fc1 = nn.Linear(input_size, hidden_size)\n",
    "        self.relu = nn.ReLU()\n",
    "        self.fc2 = nn.Linear(hidden_size, output_size)\n",
    "        \n",
    "    def forward(self, x: torch.Tensor):\n",
    "        x = self.fc1(x)\n",
    "        x = self.relu(x)\n",
    "        output = self.fc2(x)\n",
    "        return output\n",
    "    \n",
    "model = NN(input_size=input_size, output_size=num_classes, hidden_size=64)\n",
    "# loss and optimizer\n",
    "criterion = nn.CrossEntropyLoss()\n",
    "optimizer = torch.optim.Adam(model.parameters(), lr=learning_rate)\n",
    "\n",
    "# train loop\n",
    "total_steps = len(train_loader) \n",
    "for epoch in range(epochs):\n",
    "    for idx, (images, labels) in enumerate(train_loader):\n",
    "        images = images.reshape(-1, input_size).to(device)\n",
    "        labels = labels.to(device)\n",
    "        \n",
    "        # forward\n",
    "        outputs = model(images)\n",
    "        loss = criterion(outputs, labels)\n",
    "        \n",
    "        # backwards\n",
    "        optimizer.zero_grad()\n",
    "        loss.backward()\n",
    "        \n",
    "        # weight update\n",
    "        optimizer.step()\n",
    "        \n",
    "        if (idx+1) % 100 == 0:\n",
    "            print(f\"epoch {epoch + 1} / {epochs}, step {idx+1} / {total_steps}, loss = {loss:.4f}\")\n",
    "            \n",
    "\n",
    "with torch.no_grad():\n",
    "    n_corrects = 0\n",
    "    n_samples = 0\n",
    "    for images, labels in test_loader:\n",
    "        images = images.reshape(-1, input_size).to(device)\n",
    "        labels = labels.to(device)\n",
    "        outputs = model(images)\n",
    "        \n",
    "        _, predictions = torch.max(outputs, 1)\n",
    "        n_samples += labels.shape[0] \n",
    "        n_corrects += (predictions == labels).sum().item()\n",
    "    \n",
    "    acc = n_corrects / n_samples * 100.0\n",
    "    print(f'accuracy = {acc:.2f}')\n"
   ]
  }
 ],
 "metadata": {
  "kernelspec": {
   "display_name": "ml-env",
   "language": "python",
   "name": "python3"
  },
  "language_info": {
   "codemirror_mode": {
    "name": "ipython",
    "version": 3
   },
   "file_extension": ".py",
   "mimetype": "text/x-python",
   "name": "python",
   "nbconvert_exporter": "python",
   "pygments_lexer": "ipython3",
   "version": "3.9.13"
  },
  "orig_nbformat": 4,
  "vscode": {
   "interpreter": {
    "hash": "22d82af33f03da296223e6f809e18aa0877c44b8d18707f5a9076a6c9918bbd4"
   }
  }
 },
 "nbformat": 4,
 "nbformat_minor": 2
}
