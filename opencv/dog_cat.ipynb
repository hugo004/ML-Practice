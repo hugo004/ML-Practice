{
 "cells": [
  {
   "cell_type": "markdown",
   "metadata": {},
   "source": [
    "# Reference\n",
    "https://pyimagesearch.com/2016/08/08/k-nn-classifier-for-image-classification/"
   ]
  },
  {
   "cell_type": "code",
   "execution_count": 5,
   "metadata": {},
   "outputs": [],
   "source": [
    "from sklearn.neighbors import KNeighborsClassifier\n",
    "from sklearn.model_selection import train_test_split\n",
    "from matplotlib import pyplot as plt\n",
    "\n",
    "import numpy as np\n",
    "import imutils\n",
    "import cv2\n",
    "import os"
   ]
  },
  {
   "cell_type": "code",
   "execution_count": 9,
   "metadata": {},
   "outputs": [],
   "source": [
    "def image_to_feature_vector(image, size=(32, 32)):\n",
    "    return cv2.resize(image, size).flatten()\n",
    "\n",
    "def extract_color_histogram(image, bins=[8, 8, 8]):\n",
    "    hsv = cv2.cvtColor(image, cv2.COLOR_BGR2HSV)\n",
    "    hist = cv2.calcHist([hsv], [0, 1, 2], None, bins, [0, 180, 0, 256, 0, 256])\n",
    "    hist = cv2.normalize(hist, hist)\n",
    "    \n",
    "    return hist.flatten()\n"
   ]
  },
  {
   "cell_type": "code",
   "execution_count": 22,
   "metadata": {},
   "outputs": [
    {
     "name": "stdout",
     "output_type": "stream",
     "text": [
      "[INFO] processed 500/25000\n",
      "[INFO] processed 1000/25000\n",
      "[INFO] processed 1500/25000\n",
      "[INFO] processed 2000/25000\n",
      "[INFO] processed 2500/25000\n",
      "[INFO] processed 3000/25000\n",
      "[INFO] processed 3500/25000\n",
      "[INFO] processed 4000/25000\n",
      "[INFO] processed 4500/25000\n",
      "[INFO] processed 5000/25000\n",
      "[INFO] processed 5500/25000\n",
      "[INFO] processed 6000/25000\n",
      "[INFO] processed 6500/25000\n",
      "[INFO] processed 7000/25000\n",
      "[INFO] processed 7500/25000\n",
      "[INFO] processed 8000/25000\n",
      "[INFO] processed 8500/25000\n",
      "[INFO] processed 9000/25000\n",
      "[INFO] processed 9500/25000\n",
      "[INFO] processed 10000/25000\n",
      "[INFO] processed 10500/25000\n",
      "[INFO] processed 11000/25000\n",
      "[INFO] processed 11500/25000\n",
      "[INFO] processed 12000/25000\n",
      "[INFO] processed 12500/25000\n",
      "[INFO] processed 13000/25000\n",
      "[INFO] processed 13500/25000\n",
      "[INFO] processed 14000/25000\n",
      "[INFO] processed 14500/25000\n",
      "[INFO] processed 15000/25000\n",
      "[INFO] processed 15500/25000\n",
      "[INFO] processed 16000/25000\n",
      "[INFO] processed 16500/25000\n",
      "[INFO] processed 17000/25000\n",
      "[INFO] processed 17500/25000\n",
      "[INFO] processed 18000/25000\n",
      "[INFO] processed 18500/25000\n",
      "[INFO] processed 19000/25000\n",
      "[INFO] processed 19500/25000\n",
      "[INFO] processed 20000/25000\n",
      "[INFO] processed 20500/25000\n",
      "[INFO] processed 21000/25000\n",
      "[INFO] processed 21500/25000\n",
      "[INFO] processed 22000/25000\n",
      "[INFO] processed 22500/25000\n",
      "[INFO] processed 23000/25000\n",
      "[INFO] processed 23500/25000\n",
      "[INFO] processed 24000/25000\n",
      "[INFO] processed 24500/25000\n",
      "[INFO] processed 24999/25000\n"
     ]
    }
   ],
   "source": [
    "# describe images\n",
    "raw_images = []\n",
    "features = []\n",
    "labels = []\n",
    "verbose = 500\n",
    "total = len(os.listdir('../datasets/dog-vs-cat/train/'))\n",
    "\n",
    "for (i, image_path) in enumerate(os.listdir('../datasets/dog-vs-cat/train/')):\n",
    "    # format sample: dog.8011.jpg\n",
    "    image = cv2.imread(f'../datasets/dog-vs-cat/train/{image_path}')\n",
    "    label = image_path.split('.')[0]\n",
    "    \n",
    "    pixels = image_to_feature_vector(image=image)\n",
    "    hist = extract_color_histogram(image=image)\n",
    "    \n",
    "    raw_images.append(pixels)\n",
    "    features.append(hist)\n",
    "    labels.append(label)\n",
    "    \n",
    "    if (i > 0 and i % verbose == 0) or (i == total - 1):\n",
    "        print(f'[INFO] processed {i+1}/{total}')\n",
    "    "
   ]
  },
  {
   "cell_type": "code",
   "execution_count": 23,
   "metadata": {},
   "outputs": [
    {
     "name": "stdout",
     "output_type": "stream",
     "text": [
      "[INFO] pixels matrix: 75.00MB\n",
      "[INFO] features matrix: 50.00MB\n",
      "[INFO] labels matrix: 0.29MB\n"
     ]
    }
   ],
   "source": [
    "# memory consumed by data\n",
    "raw_images = np.array(raw_images)\n",
    "features = np.array(features)\n",
    "labels = np.array(labels)\n",
    "\n",
    "print(\"[INFO] pixels matrix: {:.2f}MB\".format(\n",
    "\traw_images.nbytes / (1024 * 1000.0)))\n",
    "print(\"[INFO] features matrix: {:.2f}MB\".format(\n",
    "\tfeatures.nbytes / (1024 * 1000.0)))\n",
    "print(\"[INFO] labels matrix: {:.2f}MB\".format(\n",
    "\tlabels.nbytes / (1024 * 1000.0)))\n"
   ]
  },
  {
   "cell_type": "code",
   "execution_count": 24,
   "metadata": {},
   "outputs": [],
   "source": [
    "X_train_rl, X_test_rl, y_train_rl, y_test_rl = train_test_split(raw_images, labels, test_size=0.2, random_state=42)\n",
    "X_train_fl, X_test_fl, y_train_fl, y_test_fl = train_test_split(features, labels, test_size=0.2, random_state=42)"
   ]
  },
  {
   "cell_type": "code",
   "execution_count": 27,
   "metadata": {},
   "outputs": [
    {
     "data": {
      "text/plain": [
       "0.5502"
      ]
     },
     "execution_count": 27,
     "metadata": {},
     "output_type": "execute_result"
    }
   ],
   "source": [
    "model = KNeighborsClassifier(n_neighbors=3, n_jobs=-1)\n",
    "model.fit(X_train_rl, y_train_rl)\n",
    "model.score(X_test_rl, y_test_rl)"
   ]
  },
  {
   "cell_type": "code",
   "execution_count": 26,
   "metadata": {},
   "outputs": [
    {
     "data": {
      "text/plain": [
       "0.5988"
      ]
     },
     "execution_count": 26,
     "metadata": {},
     "output_type": "execute_result"
    }
   ],
   "source": [
    "model = KNeighborsClassifier(n_neighbors=3, n_jobs=-1)\n",
    "model.fit(X_train_fl, y_train_fl)\n",
    "model.score(X_test_fl, y_test_fl)"
   ]
  },
  {
   "cell_type": "markdown",
   "metadata": {},
   "source": [
    "color histogram is not good feature descriptor for this problem, difference color of dog/cat may lead to false negative. e.g black dog/cat, white dog/cat"
   ]
  }
 ],
 "metadata": {
  "kernelspec": {
   "display_name": "Python 3.9.13 ('ml-env')",
   "language": "python",
   "name": "python3"
  },
  "language_info": {
   "codemirror_mode": {
    "name": "ipython",
    "version": 3
   },
   "file_extension": ".py",
   "mimetype": "text/x-python",
   "name": "python",
   "nbconvert_exporter": "python",
   "pygments_lexer": "ipython3",
   "version": "3.9.13"
  },
  "orig_nbformat": 4,
  "vscode": {
   "interpreter": {
    "hash": "22d82af33f03da296223e6f809e18aa0877c44b8d18707f5a9076a6c9918bbd4"
   }
  }
 },
 "nbformat": 4,
 "nbformat_minor": 2
}
