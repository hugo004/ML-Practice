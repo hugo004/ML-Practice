{
 "cells": [
  {
   "cell_type": "code",
   "execution_count": 13,
   "metadata": {},
   "outputs": [],
   "source": [
    "import cv2\n",
    "import numpy as np\n",
    "from skimage.exposure import rescale_intensity"
   ]
  },
  {
   "cell_type": "code",
   "execution_count": 14,
   "metadata": {},
   "outputs": [],
   "source": [
    "# reference: https://www.youtube.com/watch?v=wmYWfA-4HE4\n",
    "def convole(image: np.ndarray, kernel: np.ndarray):\n",
    "    iH, iW = image.shape[:2]\n",
    "    kH, kW = kernel.shape[:2]\n",
    "    print(image.shape, kernel.shape)\n",
    "    \n",
    "    '''\n",
    "        \"pad\" the borders of the input image\n",
    "        so the spatial size (i.e. width and height) are not reduce\n",
    "    '''\n",
    "    pad = (kW - 1) // 2\n",
    "    print(pad)\n",
    "    # fill empty space with padding\n",
    "    image = cv2.copyMakeBorder(src=image,\n",
    "                               top=pad,\n",
    "                               bottom=pad,\n",
    "                               left=pad,\n",
    "                               right=pad,\n",
    "                               borderType=cv2.BORDER_REPLICATE)\n",
    "    output = np.zeros((iH, iW), dtype='float32')\n",
    "    \n",
    "    '''\n",
    "        loop over the input image, \"sliding\" the kernel\n",
    "        across each (x,y) coordinate from left to right and top to bottom\n",
    "    '''\n",
    "    for y in np.arange(pad, iH + pad):\n",
    "        for x in np.arange(pad, iW + pad):\n",
    "            # extract the ROI of the image by extracting the \n",
    "            # \"center\" region of the current (x,y) coordinate dimensions\n",
    "            roi = image[y - pad:y + pad + 1, x - pad:x + pad + 1]\n",
    "            \n",
    "            # perform the convolution by taking \n",
    "            # the matrix multiplicate between ROI and kernel\n",
    "            # then sum the matrix\n",
    "            k = (roi * kernel).sum()\n",
    "            \n",
    "            # store value in the (x,y) coordinate of the output image\n",
    "            output[y - pad, x - pad] = k\n",
    "    \n",
    "    # rescale the value from binary (0,1) to (0,255) range\n",
    "    output = rescale_intensity(output, in_range=(0, 255))\n",
    "    output = (output * 255).astype('uint8')\n",
    "    \n",
    "    return output"
   ]
  },
  {
   "cell_type": "code",
   "execution_count": 15,
   "metadata": {},
   "outputs": [],
   "source": [
    "small_blur = np.zeros((1,1), dtype=\"float\") * (1.0 / (1 * 1))\n",
    "large_blur = np.zeros((7,7), dtype='float')\n",
    "\n",
    "# sharpening filter\n",
    "sharpen = np.array((\n",
    "    [0, -1, 0],\n",
    "    [-1, 5, -1],\n",
    "    [0, -1, 0]\n",
    "), dtype='int')\n",
    "\n",
    "# edge like filter\n",
    "laplacian = np.array((\n",
    "    [0, 1, 0],\n",
    "    [1, -4, 1],\n",
    "    [0, 1, 0]\n",
    "), dtype='int')\n",
    "\n",
    "sobel_x = np.array((\n",
    "    [-1, 0, 1],\n",
    "    [-2, 0, 2],\n",
    "    [-1, 0, 1]\n",
    "), dtype='int')\n",
    "\n",
    "sobel_y = np.array((\n",
    "    [-1, -2, -1],\n",
    "    [0, 0, 0],\n",
    "    [1, 2, 1]\n",
    "), dtype='int')\n",
    "\n",
    "kernel_bank = (\n",
    "    ('small_blur', small_blur),\n",
    "    ('large_blur', large_blur),\n",
    "    ('sharpen', sharpen),\n",
    "    ('laplacian', laplacian),\n",
    "    ('sobel_x', sobel_x),\n",
    "    ('sobel_y', sobel_y)\n",
    ")"
   ]
  },
  {
   "cell_type": "code",
   "execution_count": 16,
   "metadata": {},
   "outputs": [
    {
     "name": "stdout",
     "output_type": "stream",
     "text": [
      "(742, 1200) (7, 7)\n",
      "3\n"
     ]
    }
   ],
   "source": [
    "image = cv2.imread('../resources/car.jpg')\n",
    "gray = cv2.cvtColor(image, cv2.COLOR_BGR2GRAY)\n",
    "\n",
    "for name, kernel in kernel_bank:\n",
    "    convole_output = convole(gray, kernel)\n",
    "    opencv_output = cv2.filter2D(gray, -1, kernel)\n",
    "    \n",
    "    cv2.imshow('origin', gray)\n",
    "    cv2.imshow('{}-convole'.format(name), convole_output)\n",
    "    cv2.imshow('{}-opencv'.format(name), opencv_output)\n",
    "    cv2.waitKey(0)\n",
    "    cv2.destroyAllWindows()    "
   ]
  },
  {
   "cell_type": "code",
   "execution_count": null,
   "metadata": {},
   "outputs": [],
   "source": []
  }
 ],
 "metadata": {
  "kernelspec": {
   "display_name": "Python 3.9.13 ('ml-env')",
   "language": "python",
   "name": "python3"
  },
  "language_info": {
   "codemirror_mode": {
    "name": "ipython",
    "version": 3
   },
   "file_extension": ".py",
   "mimetype": "text/x-python",
   "name": "python",
   "nbconvert_exporter": "python",
   "pygments_lexer": "ipython3",
   "version": "3.9.13"
  },
  "orig_nbformat": 4,
  "vscode": {
   "interpreter": {
    "hash": "22d82af33f03da296223e6f809e18aa0877c44b8d18707f5a9076a6c9918bbd4"
   }
  }
 },
 "nbformat": 4,
 "nbformat_minor": 2
}
