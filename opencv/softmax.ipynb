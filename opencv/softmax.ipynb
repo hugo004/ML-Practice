{
 "cells": [
  {
   "cell_type": "markdown",
   "metadata": {},
   "source": [
    "# reference:\n",
    "https://pyimagesearch.com/2016/09/12/softmax-classifiers-explained/"
   ]
  },
  {
   "cell_type": "code",
   "execution_count": 3,
   "metadata": {},
   "outputs": [],
   "source": [
    "import cv2\n",
    "import numpy as np\n",
    "import os\n",
    "\n",
    "from sklearn.preprocessing import LabelEncoder\n",
    "from sklearn.linear_model import SGDClassifier\n",
    "from sklearn.metrics import classification_report\n",
    "from sklearn.model_selection import train_test_split\n",
    "from imutils import paths\n"
   ]
  },
  {
   "cell_type": "code",
   "execution_count": 4,
   "metadata": {},
   "outputs": [],
   "source": [
    "def extract_color_histogram(image, bins=(8, 8, 8)):\n",
    "    hsv = cv2.cvtColor(image, cv2.COLOR_BGR2HSV)\n",
    "    hist = cv2.calcHist([hsv], [0, 1, 2], None, bins, [0, 180, 0, 256, 0, 256])\n",
    "    hist = cv2.normalize(hist, hist)\n",
    "    \n",
    "    return hist.flatten()"
   ]
  },
  {
   "cell_type": "code",
   "execution_count": 9,
   "metadata": {},
   "outputs": [
    {
     "name": "stdout",
     "output_type": "stream",
     "text": [
      "[INFO] processed 1001/25000\n",
      "[INFO] processed 2001/25000\n",
      "[INFO] processed 3001/25000\n",
      "[INFO] processed 4001/25000\n",
      "[INFO] processed 5001/25000\n",
      "[INFO] processed 6001/25000\n",
      "[INFO] processed 7001/25000\n",
      "[INFO] processed 8001/25000\n",
      "[INFO] processed 9001/25000\n",
      "[INFO] processed 10001/25000\n",
      "[INFO] processed 11001/25000\n",
      "[INFO] processed 12001/25000\n",
      "[INFO] processed 13001/25000\n",
      "[INFO] processed 14001/25000\n",
      "[INFO] processed 15001/25000\n",
      "[INFO] processed 16001/25000\n",
      "[INFO] processed 17001/25000\n",
      "[INFO] processed 18001/25000\n",
      "[INFO] processed 19001/25000\n",
      "[INFO] processed 20001/25000\n",
      "[INFO] processed 21001/25000\n",
      "[INFO] processed 22001/25000\n",
      "[INFO] processed 23001/25000\n",
      "[INFO] processed 24001/25000\n",
      "[INFO] processed 25000/25000\n"
     ]
    }
   ],
   "source": [
    "dir = '../datasets/dog-vs-cat/train/'\n",
    "image_paths = os.listdir(dir)\n",
    "data = []\n",
    "labels = []\n",
    "verbose = 1000\n",
    "total = len(image_paths)\n",
    "\n",
    "for i, image_path in enumerate(image_paths):\n",
    "    image = cv2.imread(dir + image_path)\n",
    "    label = image_path.split('.')[0]\n",
    "    labels.append(label)\n",
    "    \n",
    "    hist = extract_color_histogram(image)\n",
    "    data.append(hist)\n",
    "    \n",
    "    if (i > 0 and i % verbose == 0) or (i == total - 1):\n",
    "        print(f'[INFO] processed {i+1}/{total}')\n",
    "    "
   ]
  },
  {
   "cell_type": "code",
   "execution_count": 11,
   "metadata": {},
   "outputs": [],
   "source": [
    "lbl_encoder = LabelEncoder()\n",
    "labels = lbl_encoder.fit_transform(labels)\n",
    "\n",
    "X_train, X_valid, y_train, y_valid = train_test_split(np.array(data), labels,  test_size=0.3, random_state=42)"
   ]
  },
  {
   "cell_type": "code",
   "execution_count": 12,
   "metadata": {},
   "outputs": [
    {
     "name": "stdout",
     "output_type": "stream",
     "text": [
      "-- Epoch 1\n",
      "Norm: 13.65, NNZs: 512, Bias: -0.533647, T: 17500, Avg. loss: 0.954380\n",
      "Total training time: 0.03 seconds.\n",
      "-- Epoch 2\n",
      "Norm: 11.63, NNZs: 512, Bias: -0.484599, T: 35000, Avg. loss: 0.664343\n",
      "Total training time: 0.06 seconds.\n",
      "-- Epoch 3\n",
      "Norm: 11.51, NNZs: 512, Bias: -0.797284, T: 52500, Avg. loss: 0.645353\n",
      "Total training time: 0.09 seconds.\n",
      "-- Epoch 4\n",
      "Norm: 11.36, NNZs: 512, Bias: -0.433851, T: 70000, Avg. loss: 0.635855\n",
      "Total training time: 0.12 seconds.\n",
      "-- Epoch 5\n",
      "Norm: 11.10, NNZs: 512, Bias: -0.569512, T: 87500, Avg. loss: 0.630767\n",
      "Total training time: 0.16 seconds.\n",
      "-- Epoch 6\n",
      "Norm: 11.13, NNZs: 512, Bias: -0.496802, T: 105000, Avg. loss: 0.627799\n",
      "Total training time: 0.19 seconds.\n",
      "-- Epoch 7\n",
      "Norm: 11.14, NNZs: 512, Bias: -0.368682, T: 122500, Avg. loss: 0.626257\n",
      "Total training time: 0.22 seconds.\n",
      "-- Epoch 8\n",
      "Norm: 11.14, NNZs: 512, Bias: -0.238920, T: 140000, Avg. loss: 0.624563\n",
      "Total training time: 0.25 seconds.\n",
      "-- Epoch 9\n",
      "Norm: 11.16, NNZs: 512, Bias: -0.355309, T: 157500, Avg. loss: 0.624384\n",
      "Total training time: 0.28 seconds.\n",
      "-- Epoch 10\n",
      "Norm: 11.14, NNZs: 512, Bias: -0.009158, T: 175000, Avg. loss: 0.623055\n",
      "Total training time: 0.31 seconds.\n"
     ]
    },
    {
     "name": "stderr",
     "output_type": "stream",
     "text": [
      "/Users/hugo/miniforge3/envs/ml-env/lib/python3.9/site-packages/sklearn/linear_model/_stochastic_gradient.py:696: ConvergenceWarning: Maximum number of iteration reached before convergence. Consider increasing max_iter to improve the fit.\n",
      "  warnings.warn(\n"
     ]
    },
    {
     "data": {
      "text/plain": [
       "'              precision    recall  f1-score   support\\n\\n         cat       0.70      0.37      0.49      3711\\n         dog       0.58      0.84      0.69      3789\\n\\n    accuracy                           0.61      7500\\n   macro avg       0.64      0.61      0.59      7500\\nweighted avg       0.64      0.61      0.59      7500\\n'"
      ]
     },
     "execution_count": 12,
     "metadata": {},
     "output_type": "execute_result"
    }
   ],
   "source": [
    "model = SGDClassifier(loss='log', max_iter=10, verbose=10)\n",
    "model.fit(X_train, y_train)\n",
    "\n",
    "predict = model.predict(X_valid)\n",
    "classification_report(y_valid, predict, target_names=lbl_encoder.classes_)"
   ]
  }
 ],
 "metadata": {
  "kernelspec": {
   "display_name": "Python 3.9.13 ('ml-env')",
   "language": "python",
   "name": "python3"
  },
  "language_info": {
   "codemirror_mode": {
    "name": "ipython",
    "version": 3
   },
   "file_extension": ".py",
   "mimetype": "text/x-python",
   "name": "python",
   "nbconvert_exporter": "python",
   "pygments_lexer": "ipython3",
   "version": "3.9.13"
  },
  "orig_nbformat": 4,
  "vscode": {
   "interpreter": {
    "hash": "22d82af33f03da296223e6f809e18aa0877c44b8d18707f5a9076a6c9918bbd4"
   }
  }
 },
 "nbformat": 4,
 "nbformat_minor": 2
}
