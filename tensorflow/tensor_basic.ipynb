{
 "cells": [
  {
   "cell_type": "code",
   "execution_count": 1,
   "metadata": {},
   "outputs": [],
   "source": [
    "import tensorflow as tf"
   ]
  },
  {
   "cell_type": "code",
   "execution_count": 13,
   "metadata": {},
   "outputs": [
    {
     "data": {
      "text/plain": [
       "<tf.Tensor: shape=(3, 3), dtype=float16, numpy=\n",
       "array([[0.7495, 0.753 , 0.986 ],\n",
       "       [0.9106, 0.4287, 0.8003],\n",
       "       [0.4568, 0.8115, 0.1809]], dtype=float16)>"
      ]
     },
     "execution_count": 13,
     "metadata": {},
     "output_type": "execute_result"
    }
   ],
   "source": [
    "# init tensors\n",
    "x = tf.constant(4, shape=(1,1), dtype=tf.float32)\n",
    "x = tf.constant([\n",
    "    [1,2,3],\n",
    "    [4,5,6]\n",
    "])\n",
    "x = tf.ones((4,4))\n",
    "x = tf.eye(3) # \"I\" for identity matrix (eye)\n",
    "x = tf.random.normal((3,3), mean=0, stddev=1)\n",
    "x = tf.random.uniform((3,3), minval=0, maxval=1)\n",
    "x = tf.cast(x, dtype=tf.float16)\n",
    "x"
   ]
  },
  {
   "cell_type": "code",
   "execution_count": 27,
   "metadata": {},
   "outputs": [
    {
     "data": {
      "text/plain": [
       "<tf.Tensor: shape=(), dtype=int32, numpy=32>"
      ]
     },
     "execution_count": 27,
     "metadata": {},
     "output_type": "execute_result"
    }
   ],
   "source": [
    "# mathematical operations\n",
    "x = tf.constant([1,2,3])\n",
    "y = tf.constant([4,5,6])\n",
    "\n",
    "z = tf.add(x, y)\n",
    "z = tf.tensordot(x, y, axes=1)\n",
    "z = tf.reduce_sum(x*y, axis=0)\n",
    "\n",
    "z"
   ]
  },
  {
   "cell_type": "code",
   "execution_count": 31,
   "metadata": {},
   "outputs": [
    {
     "data": {
      "text/plain": [
       "<tf.Tensor: shape=(1,), dtype=int32, numpy=array([0], dtype=int32)>"
      ]
     },
     "execution_count": 31,
     "metadata": {},
     "output_type": "execute_result"
    }
   ],
   "source": [
    "# indexing\n",
    "x = tf.constant([0, 1, 2, 3, 4, 5])\n",
    "x[1:3]\n",
    "x[::2]\n",
    "\n",
    "indices = tf.constant([0])\n",
    "tf.gather(x, indices)"
   ]
  },
  {
   "cell_type": "code",
   "execution_count": 37,
   "metadata": {},
   "outputs": [
    {
     "data": {
      "text/plain": [
       "<tf.Tensor: shape=(3, 3), dtype=int32, numpy=\n",
       "array([[0, 1, 2],\n",
       "       [3, 4, 5],\n",
       "       [6, 7, 8]], dtype=int32)>"
      ]
     },
     "execution_count": 37,
     "metadata": {},
     "output_type": "execute_result"
    }
   ],
   "source": [
    "# reshaping\n",
    "x = tf.range(9)\n",
    "tf.reshape(x, (3, 3))"
   ]
  }
 ],
 "metadata": {
  "kernelspec": {
   "display_name": "ml-env",
   "language": "python",
   "name": "python3"
  },
  "language_info": {
   "codemirror_mode": {
    "name": "ipython",
    "version": 3
   },
   "file_extension": ".py",
   "mimetype": "text/x-python",
   "name": "python",
   "nbconvert_exporter": "python",
   "pygments_lexer": "ipython3",
   "version": "3.9.13"
  },
  "orig_nbformat": 4,
  "vscode": {
   "interpreter": {
    "hash": "22d82af33f03da296223e6f809e18aa0877c44b8d18707f5a9076a6c9918bbd4"
   }
  }
 },
 "nbformat": 4,
 "nbformat_minor": 2
}
