{
 "cells": [
  {
   "cell_type": "code",
   "execution_count": 24,
   "metadata": {},
   "outputs": [],
   "source": [
    "import tensorflow as tf\n",
    "import numpy as np\n",
    "\n",
    "from tensorflow import keras\n",
    "from tensorflow.keras import layers\n",
    "from tensorflow.keras.datasets import mnist"
   ]
  },
  {
   "cell_type": "code",
   "execution_count": 25,
   "metadata": {},
   "outputs": [
    {
     "name": "stdout",
     "output_type": "stream",
     "text": [
      "(60000, 28, 28)\n",
      "(60000,)\n"
     ]
    }
   ],
   "source": [
    "(x_train, y_train), (x_test, y_test) = mnist.load_data()\n",
    "print(x_train.shape)\n",
    "print(y_train.shape)"
   ]
  },
  {
   "cell_type": "code",
   "execution_count": 26,
   "metadata": {},
   "outputs": [],
   "source": [
    "x_train = x_train.reshape(-1, 28*28).astype(np.float32) / 255.0\n",
    "x_test = x_test.reshape(-1, 28*28).astype(np.float32) / 255.0"
   ]
  },
  {
   "cell_type": "code",
   "execution_count": 27,
   "metadata": {},
   "outputs": [],
   "source": [
    "class Dense(layers.Layer):\n",
    "    def __init__(self, units):\n",
    "        super(Dense, self).__init__()\n",
    "        self.units = units\n",
    "        \n",
    "    def build(self, input_shape):\n",
    "        self.w = self.add_weight(name='w', shape=(input_shape[-1], self.units), initializer='random_normal', trainable=True)\n",
    "        self.b = self.add_weight(name='b', shape=(self.units,), initializer='zero', trainable=True)\n",
    "        \n",
    "    def call(self, inputs):\n",
    "        return tf.matmul(inputs, self.w) + self.b\n",
    "    \n",
    "\n",
    "class MyReLu(layers.Layer):\n",
    "    def __init__(self):\n",
    "        super(MyReLu, self).__init__()\n",
    "        \n",
    "    def call(self, x):\n",
    "        return tf.math.maximum(x, 0)\n",
    "        \n",
    "    \n",
    "class MyModel(keras.Model):\n",
    "    def __init__(self, num_classes=10):\n",
    "        super(MyModel, self).__init__()\n",
    "        # self.dense1 = layers.Dense(64)\n",
    "        # self.dense2 = layers.Dense(num_classes)\n",
    "        \n",
    "        self.dense1 = Dense(64)\n",
    "        self.dense2 = Dense(num_classes)\n",
    "        self.relu = MyReLu()\n",
    "        \n",
    "    def call(self, input_tensor):\n",
    "        # x = tf.nn.relu(self.dense1(input_tensor))\n",
    "        x = self.relu(self.dense1(input_tensor))\n",
    "        return self.dense2(x)"
   ]
  },
  {
   "cell_type": "code",
   "execution_count": 28,
   "metadata": {},
   "outputs": [],
   "source": [
    "# # sequential api\n",
    "# model = keras.models.Sequential([\n",
    "#     layers.Input(shape=(28*28)),\n",
    "#     layers.Dense(512, activation='relu'),\n",
    "#     layers.Dense(256, activation='relu'),\n",
    "#     layers.Dense(10)\n",
    "# ])\n",
    "\n",
    "model = MyModel()\n",
    "model.compile(loss=keras.losses.SparseCategoricalCrossentropy(from_logits=True),\n",
    "              optimizer=keras.optimizers.Adam(learning_rate=0.001),\n",
    "              metrics=['accuracy'])\n",
    "\n"
   ]
  },
  {
   "cell_type": "code",
   "execution_count": 29,
   "metadata": {},
   "outputs": [],
   "source": [
    "\n",
    "# # functional api\n",
    "# inputs = layers.Input(shape=(28*28))\n",
    "# x = layers.Dense(512, activation='relu')(inputs)\n",
    "# x = layers.Dense(256, activation='relu')(x)\n",
    "# outputs = layers.Dense(10, activation='softmax')(x)\n",
    "\n",
    "# model = keras.Model(inputs=inputs, outputs=outputs)\n",
    "# model.compile(loss=keras.losses.SparseCategoricalCrossentropy(),\n",
    "#               optimizer=keras.optimizers.Adam(learning_rate=0.001),\n",
    "#               metrics=['accuracy'])\n",
    "\n",
    "\n",
    "# model.fit(x_train, y_train, batch_size=32, epochs=5, verbose=2)\n",
    "# model.evaluate(x_test, y_test, batch_size=32, verbose=2)"
   ]
  },
  {
   "cell_type": "code",
   "execution_count": 34,
   "metadata": {},
   "outputs": [],
   "source": [
    "# pre-trained model\n",
    "model = keras.applications.InceptionV3(include_top=True)\n",
    "# model.summary()\n",
    "base_input = model.layers[0].input\n",
    "base_output = model.layers[-1].output\n",
    "final_output = layers.Dense(5)(base_output)\n",
    "new_model = keras.Model(inputs=base_input, outputs=final_output)\n",
    "new_model.compile(loss=keras.losses.SparseCategoricalCrossentropy(),\n",
    "              optimizer=keras.optimizers.Adam(learning_rate=0.001),\n",
    "              metrics=['accuracy'])\n"
   ]
  }
 ],
 "metadata": {
  "kernelspec": {
   "display_name": "ml-env",
   "language": "python",
   "name": "python3"
  },
  "language_info": {
   "codemirror_mode": {
    "name": "ipython",
    "version": 3
   },
   "file_extension": ".py",
   "mimetype": "text/x-python",
   "name": "python",
   "nbconvert_exporter": "python",
   "pygments_lexer": "ipython3",
   "version": "3.9.13 | packaged by conda-forge | (main, May 27 2022, 17:00:33) \n[Clang 13.0.1 ]"
  },
  "orig_nbformat": 4,
  "vscode": {
   "interpreter": {
    "hash": "22d82af33f03da296223e6f809e18aa0877c44b8d18707f5a9076a6c9918bbd4"
   }
  }
 },
 "nbformat": 4,
 "nbformat_minor": 2
}
