{
 "cells": [
  {
   "cell_type": "code",
   "execution_count": 1,
   "metadata": {},
   "outputs": [],
   "source": [
    "import tensorflow as tf\n",
    "\n",
    "from tensorflow import keras\n",
    "from tensorflow.keras import layers, regularizers\n",
    "from tensorflow.keras.datasets import cifar10"
   ]
  },
  {
   "cell_type": "code",
   "execution_count": 2,
   "metadata": {},
   "outputs": [],
   "source": [
    "(x_train, y_train), (x_test, y_test) = cifar10.load_data()\n",
    "x_train = x_train.astype('float32') / 255.0\n",
    "x_test = x_test.astype('float32') / 255.0"
   ]
  },
  {
   "cell_type": "code",
   "execution_count": 3,
   "metadata": {},
   "outputs": [
    {
     "name": "stdout",
     "output_type": "stream",
     "text": [
      "(50000, 32, 32, 3)\n",
      "(50000, 1)\n"
     ]
    }
   ],
   "source": [
    "print(x_train.shape)\n",
    "print(y_train.shape)"
   ]
  },
  {
   "cell_type": "code",
   "execution_count": 4,
   "metadata": {},
   "outputs": [
    {
     "name": "stdout",
     "output_type": "stream",
     "text": [
      "Metal device set to: Apple M1\n",
      "\n",
      "systemMemory: 16.00 GB\n",
      "maxCacheSize: 5.33 GB\n",
      "\n"
     ]
    },
    {
     "name": "stderr",
     "output_type": "stream",
     "text": [
      "2023-01-02 23:23:17.219558: I tensorflow/core/common_runtime/pluggable_device/pluggable_device_factory.cc:305] Could not identify NUMA node of platform GPU ID 0, defaulting to 0. Your kernel may not have been built with NUMA support.\n",
      "2023-01-02 23:23:17.219783: I tensorflow/core/common_runtime/pluggable_device/pluggable_device_factory.cc:271] Created TensorFlow device (/job:localhost/replica:0/task:0/device:GPU:0 with 0 MB memory) -> physical PluggableDevice (device: 0, name: METAL, pci bus id: <undefined>)\n"
     ]
    },
    {
     "name": "stdout",
     "output_type": "stream",
     "text": [
      "Model: \"sequential\"\n",
      "_________________________________________________________________\n",
      " Layer (type)                Output Shape              Param #   \n",
      "=================================================================\n",
      " cnn_block (CNNBlock)        (None, 16, 16, 32)        1024      \n",
      "                                                                 \n",
      " cnn_block_1 (CNNBlock)      (None, 8, 8, 64)          18752     \n",
      "                                                                 \n",
      " cnn_block_2 (CNNBlock)      (None, 4, 4, 128)         74368     \n",
      "                                                                 \n",
      " flatten (Flatten)           (None, 2048)              0         \n",
      "                                                                 \n",
      " dense (Dense)               (None, 64)                131136    \n",
      "                                                                 \n",
      " dense_1 (Dense)             (None, 10)                650       \n",
      "                                                                 \n",
      "=================================================================\n",
      "Total params: 225,930\n",
      "Trainable params: 225,482\n",
      "Non-trainable params: 448\n",
      "_________________________________________________________________\n"
     ]
    }
   ],
   "source": [
    "# model = keras.Sequential([\n",
    "#     layers.Input(shape=(32, 32, 3)),\n",
    "#     layers.Conv2D(32, 3, padding='same', kernel_regularizer=regularizers.L2(0.01)),\n",
    "#     layers.BatchNormalization(),\n",
    "#     layers.Activation('relu'),\n",
    "#     layers.MaxPool2D(pool_size=(2,2)),\n",
    "    \n",
    "#     layers.Conv2D(64, 3, padding='same', kernel_regularizer=regularizers.L2(0.01)),\n",
    "#     layers.BatchNormalization(),\n",
    "#     layers.Activation('relu'),\n",
    "#     layers.MaxPool2D(pool_size=(2,2)),\n",
    "    \n",
    "#     layers.Conv2D(128, 3, padding='same', kernel_regularizer=regularizers.L2(0.01)),\n",
    "#     layers.BatchNormalization(),\n",
    "#     layers.Activation('relu'),\n",
    "    \n",
    "    # layers.Flatten(),\n",
    "    # layers.Dense(64, activation='relu', kernel_regularizer=regularizers.L2(0.01)),\n",
    "    # # layers.Dropout(0.5),\n",
    "    # layers.Dense(10, activation='softmax')\n",
    "# ])\n",
    "\n",
    "class CNNBlock(layers.Layer):\n",
    "    def __init__(self, out_channels, kernel_size=3):\n",
    "        super(CNNBlock, self).__init__()\n",
    "        self.conv = layers.Conv2D(out_channels, kernel_size=kernel_size, padding='same')\n",
    "        self.batchNorm = layers.BatchNormalization()\n",
    "        self.maxPool = layers.MaxPool2D()\n",
    "\n",
    "    def call(self, inputs):\n",
    "        x = self.conv(inputs)\n",
    "        x = self.batchNorm(x)\n",
    "        x = tf.nn.relu(x)\n",
    "        x = self.maxPool(x)\n",
    "        return x\n",
    "\n",
    "model = keras.Sequential([\n",
    "    layers.Input(shape=(32, 32, 3)),\n",
    "    CNNBlock(32),\n",
    "    CNNBlock(64),\n",
    "    CNNBlock(128),\n",
    "    layers.Flatten(),\n",
    "    layers.Dense(64, activation='relu'),\n",
    "    layers.Dense(10, activation='softmax')\n",
    "])\n",
    "model.summary()"
   ]
  },
  {
   "cell_type": "code",
   "execution_count": 5,
   "metadata": {},
   "outputs": [
    {
     "name": "stdout",
     "output_type": "stream",
     "text": [
      "Epoch 1/10\n"
     ]
    },
    {
     "name": "stderr",
     "output_type": "stream",
     "text": [
      "2023-01-02 23:23:19.822281: W tensorflow/core/platform/profile_utils/cpu_utils.cc:128] Failed to get CPU frequency: 0 Hz\n",
      "2023-01-02 23:23:21.400279: I tensorflow/core/grappler/optimizers/custom_graph_optimizer_registry.cc:113] Plugin optimizer for device_type GPU is enabled.\n"
     ]
    },
    {
     "name": "stdout",
     "output_type": "stream",
     "text": [
      "782/782 - 41s - loss: 1.2846 - accuracy: 0.5405 - 41s/epoch - 52ms/step\n",
      "Epoch 2/10\n",
      "782/782 - 28s - loss: 0.8771 - accuracy: 0.6930 - 28s/epoch - 36ms/step\n",
      "Epoch 3/10\n",
      "782/782 - 31s - loss: 0.7318 - accuracy: 0.7449 - 31s/epoch - 39ms/step\n",
      "Epoch 4/10\n",
      "782/782 - 35s - loss: 0.6406 - accuracy: 0.7771 - 35s/epoch - 45ms/step\n",
      "Epoch 5/10\n",
      "782/782 - 36s - loss: 0.5619 - accuracy: 0.8035 - 36s/epoch - 47ms/step\n",
      "Epoch 6/10\n",
      "782/782 - 26s - loss: 0.5052 - accuracy: 0.8244 - 26s/epoch - 34ms/step\n",
      "Epoch 7/10\n",
      "782/782 - 33s - loss: 0.4409 - accuracy: 0.8460 - 33s/epoch - 42ms/step\n",
      "Epoch 8/10\n",
      "782/782 - 34s - loss: 0.3810 - accuracy: 0.8678 - 34s/epoch - 44ms/step\n",
      "Epoch 9/10\n",
      "782/782 - 32s - loss: 0.3429 - accuracy: 0.8791 - 32s/epoch - 40ms/step\n",
      "Epoch 10/10\n",
      "782/782 - 30s - loss: 0.2937 - accuracy: 0.8971 - 30s/epoch - 39ms/step\n"
     ]
    },
    {
     "name": "stderr",
     "output_type": "stream",
     "text": [
      "2023-01-02 23:28:46.828390: I tensorflow/core/grappler/optimizers/custom_graph_optimizer_registry.cc:113] Plugin optimizer for device_type GPU is enabled.\n"
     ]
    },
    {
     "name": "stdout",
     "output_type": "stream",
     "text": [
      "157/157 - 3s - loss: 0.7871 - accuracy: 0.7616 - 3s/epoch - 18ms/step\n"
     ]
    },
    {
     "data": {
      "text/plain": [
       "[0.7871312499046326, 0.7616000175476074]"
      ]
     },
     "execution_count": 5,
     "metadata": {},
     "output_type": "execute_result"
    }
   ],
   "source": [
    "model.compile(loss=keras.losses.SparseCategoricalCrossentropy(),\n",
    "              optimizer=keras.optimizers.Adam(learning_rate=0.001),\n",
    "              metrics=['accuracy'])\n",
    "\n",
    "model.fit(x_train, y_train, batch_size=64, epochs=10, verbose=2)\n",
    "model.evaluate(x_test, y_test, batch_size=64, verbose=2)"
   ]
  },
  {
   "cell_type": "code",
   "execution_count": null,
   "metadata": {},
   "outputs": [],
   "source": []
  }
 ],
 "metadata": {
  "kernelspec": {
   "display_name": "ml-env",
   "language": "python",
   "name": "python3"
  },
  "language_info": {
   "codemirror_mode": {
    "name": "ipython",
    "version": 3
   },
   "file_extension": ".py",
   "mimetype": "text/x-python",
   "name": "python",
   "nbconvert_exporter": "python",
   "pygments_lexer": "ipython3",
   "version": "3.9.13"
  },
  "orig_nbformat": 4,
  "vscode": {
   "interpreter": {
    "hash": "22d82af33f03da296223e6f809e18aa0877c44b8d18707f5a9076a6c9918bbd4"
   }
  }
 },
 "nbformat": 4,
 "nbformat_minor": 2
}
