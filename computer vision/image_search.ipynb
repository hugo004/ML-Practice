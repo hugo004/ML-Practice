{
 "cells": [
  {
   "cell_type": "markdown",
   "metadata": {},
   "source": [
    "# Reference:\n",
    "https://pyimagesearch.com/2014/01/27/hobbits-and-histograms-a-how-to-guide-to-building-your-first-image-search-engine-in-python/"
   ]
  },
  {
   "cell_type": "code",
   "execution_count": 1,
   "metadata": {},
   "outputs": [],
   "source": [
    "import cv2\n",
    "import numpy as np\n",
    "import pickle\n",
    "import os\n",
    "import imutils\n",
    "\n",
    "from os import listdir\n",
    "from scipy import stats\n"
   ]
  },
  {
   "cell_type": "code",
   "execution_count": 2,
   "metadata": {},
   "outputs": [],
   "source": [
    "class RBGHistogram:\n",
    "    def __init__(self, bins: list):\n",
    "        self.bins = bins\n",
    "    \n",
    "    def describe(self, image):\n",
    "        '''\n",
    "            compute 3D histogram in RGB color space\n",
    "            then normalize the histogram, so that the image with same content (convert to % rather than number of pixels)\n",
    "            but either scale larger or smaller will have (roughly) the same histogram\n",
    "        '''\n",
    "        hist = cv2.calcHist([image], [0,1,2], None, self.bins, [0,256,0,256,0,256])\n",
    "        # hist = cv2.calcHist([cv2.cvtColor(image, cv2.COLOR_BGR2GRAY)], [0], None, self.bins, [0,256])\n",
    "        # normalize\n",
    "        hist /= hist.sum()\n",
    "        # hist = cv2.normalize(hist, hist)\n",
    "        \n",
    "        return hist.flatten()\n",
    "    \n",
    "    def image_resize(self, image, width = None, height = None, inter = cv2.INTER_AREA):\n",
    "        # initialize the dimensions of the image to be resized and\n",
    "        # grab the image size\n",
    "        dim = None\n",
    "        (h, w) = image.shape[:2]\n",
    "\n",
    "        # if both the width and height are None, then return the\n",
    "        # original image\n",
    "        if width is None and height is None:\n",
    "            return image\n",
    "\n",
    "        # check to see if the width is None\n",
    "        if width is None:\n",
    "            # calculate the ratio of the height and construct the\n",
    "            # dimensions\n",
    "            r = height / float(h)\n",
    "            dim = (int(w * r), height)\n",
    "\n",
    "        # otherwise, the height is None\n",
    "        else:\n",
    "            # calculate the ratio of the width and construct the\n",
    "            # dimensions\n",
    "            r = width / float(w)\n",
    "            dim = (width, int(h * r))\n",
    "\n",
    "        # resize the image\n",
    "        resized = cv2.resize(image, dim, interpolation = inter)\n",
    "\n",
    "        # return the resized image\n",
    "        return resized\n"
   ]
  },
  {
   "cell_type": "code",
   "execution_count": 3,
   "metadata": {},
   "outputs": [
    {
     "name": "stdout",
     "output_type": "stream",
     "text": [
      "[INFO] done... indexed 20 images\n"
     ]
    }
   ],
   "source": [
    "index = {}\n",
    "desc = RBGHistogram([8,8,8])\n",
    "# desc = RBGHistogram([256])\n",
    "\n",
    "# each file name are unique\n",
    "for path in listdir('../resources/search-dataset/'):\n",
    "    # split file name and extension e.g. xxx.jpg\n",
    "    name = path.split('.')[0]\n",
    "    image = cv2.imread(f\"../resources/search-dataset/{path}\")\n",
    "    features = desc.describe(image)\n",
    "    index[path] = features\n",
    "\n",
    "# save features\n",
    "f = open('../model/image_search_model', 'wb')\n",
    "f.write(pickle.dumps(index))\n",
    "f.close()\n",
    "\n",
    "print('[INFO] done... indexed {} images'.format(len(index)))"
   ]
  },
  {
   "cell_type": "code",
   "execution_count": null,
   "metadata": {},
   "outputs": [],
   "source": []
  },
  {
   "cell_type": "code",
   "execution_count": 4,
   "metadata": {},
   "outputs": [],
   "source": [
    "class Searcher:\n",
    "    def __init__(self, index: dict):\n",
    "        self.index = index\n",
    "    \n",
    "    def search(self, query_features):\n",
    "        results = {}\n",
    "        \n",
    "        for k, features in self.index.items():\n",
    "            # distance = self.chi2_distance(features, query_features)\n",
    "            distance = self.euclidean_distance(features, query_features)\n",
    "            results[k] = distance\n",
    "        \n",
    "        results = sorted([(v,k) for (k,v) in results.items()])\n",
    "        return results\n",
    "    \n",
    "    def chi2_distance(self, hist_a, hist_b, eps=1e-10):\n",
    "        distance = 0.5 * np.sum([\n",
    "            ((a-b) ** 2) / (a+b+eps) for (a,b) in zip(hist_a, hist_b)\n",
    "        ])\n",
    "        \n",
    "        return distance\n",
    "\n",
    "    def euclidean_distance(self, point_a, point_b):\n",
    "        # reference: https://www.geeksforgeeks.org/calculate-the-euclidean-distance-using-numpy/\n",
    "        sum_sq = np.sum(np.square(point_a - point_b))\n",
    "        return np.sqrt(sum_sq)"
   ]
  },
  {
   "cell_type": "code",
   "execution_count": 7,
   "metadata": {},
   "outputs": [
    {
     "name": "stdout",
     "output_type": "stream",
     "text": [
      "\t1. inori minase1.jpg : 0.000\n",
      "\t2. matusoka yositsugu3.jpg : 0.214\n",
      "\t3. sakura ayane3.jpg : 0.241\n",
      "\t4. kayano ai2.jpg : 0.255\n",
      "\t5. inori minase5.jpg : 0.331\n",
      "\t6. matusoka yositsugu2.jpg : 0.338\n",
      "\t7. kayano ai1.jpg : 0.356\n",
      "\t8. inori minase2.jpg : 0.366\n",
      "\t9. matusoka yositsugu1.jpg : 0.384\n",
      "\t10. matusoka yositsugu4.jpg : 0.421\n"
     ]
    }
   ],
   "source": [
    "index = pickle.loads(open('../model/image_search_model', 'rb').read())\n",
    "searcher = Searcher(index)\n",
    "\n",
    "query_img = cv2.imread('../resources/search-dataset/inori minase1.jpg')\n",
    "# desc = RBGHistogram([8,8,8])\n",
    "query_features = desc.describe(query_img)\n",
    "\n",
    "results = searcher.search(query_features)\n",
    "\n",
    "\n",
    "# loop over the top ten results\n",
    "for j in range(0, 10):\n",
    "    # grab the result (we are using row-major order) and\n",
    "    # load the result image\n",
    "    (score, img) = results[j]\n",
    "    path = os.path.join('../resources/search-dataset', img)\n",
    "    result = cv2.imread(path)\n",
    "    print(\"\\t{}. {} : {:.3f}\".format(j + 1, img, score))\n",
    "\n",
    "    # cv2.imshow('result {}'.format(j), result)\n",
    "    # cv2.waitKey(0)\n",
    "    # cv2.destroyAllWindows()"
   ]
  },
  {
   "cell_type": "code",
   "execution_count": null,
   "metadata": {},
   "outputs": [],
   "source": []
  }
 ],
 "metadata": {
  "kernelspec": {
   "display_name": "Python 3.9.13 ('ml-env')",
   "language": "python",
   "name": "python3"
  },
  "language_info": {
   "codemirror_mode": {
    "name": "ipython",
    "version": 3
   },
   "file_extension": ".py",
   "mimetype": "text/x-python",
   "name": "python",
   "nbconvert_exporter": "python",
   "pygments_lexer": "ipython3",
   "version": "3.9.13"
  },
  "orig_nbformat": 4,
  "vscode": {
   "interpreter": {
    "hash": "22d82af33f03da296223e6f809e18aa0877c44b8d18707f5a9076a6c9918bbd4"
   }
  }
 },
 "nbformat": 4,
 "nbformat_minor": 2
}
