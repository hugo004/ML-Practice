{
 "cells": [
  {
   "cell_type": "markdown",
   "metadata": {},
   "source": [
    "# Reference\n",
    "https://www.geeksforgeeks.org/realtime-distance-estimation-using-opencv-python/"
   ]
  },
  {
   "cell_type": "code",
   "execution_count": null,
   "metadata": {},
   "outputs": [],
   "source": [
    "import numpy as np\n",
    "import cv2\n",
    "import imutils\n",
    "\n",
    "from matplotlib import pyplot as plt"
   ]
  },
  {
   "cell_type": "code",
   "execution_count": null,
   "metadata": {},
   "outputs": [],
   "source": [
    "def find_marker(image):\n",
    "    gray = cv2.cvtColor(image, cv2.COLOR_BGR2GRAY)\n",
    "    blur = cv2.GaussianBlur(gray, (5, 5), 0)\n",
    "    \n",
    "    lower = 0.66 * np.mean(blur)\n",
    "    upper = 1.33 * np.mean(blur)\n",
    "    edged = cv2.Canny(blur, lower, upper)\n",
    "    \n",
    "    cnts = cv2.findContours(edged.copy(), cv2.RETR_EXTERNAL, cv2.CHAIN_APPROX_SIMPLE)\n",
    "    cnts = imutils.grab_contours(cnts)\n",
    "    \n",
    "    plt.imshow(edged, cmap=plt.cm.gray)\n",
    "    \n",
    "    c = max(cnts, key=cv2.contourArea)\n",
    "    return cv2.minAreaRect(c)"
   ]
  },
  {
   "cell_type": "code",
   "execution_count": null,
   "metadata": {},
   "outputs": [],
   "source": [
    "def distance_to_camera(known_width, focal_length, per_width):\n",
    "    return (known_width * focal_length) / per_width"
   ]
  },
  {
   "cell_type": "code",
   "execution_count": null,
   "metadata": {},
   "outputs": [],
   "source": [
    "KNOWN_DISTANCE = 24.0\n",
    "KNOWN_WIDTH = 11.0\n",
    "\n",
    "\n",
    "image = cv2.imread('../resources/distance_measure_sample1.jpg')\n",
    "marker = find_marker(image)\n",
    "focal_length = marker[1][0] * KNOWN_DISTANCE / KNOWN_WIDTH\n",
    "distance = distance_to_camera(KNOWN_WIDTH, focal_length, marker[1][0])\n",
    "distance"
   ]
  },
  {
   "cell_type": "code",
   "execution_count": null,
   "metadata": {},
   "outputs": [],
   "source": [
    "def distance_finder(focal_length, real_face_width, face_width_in_frame):\n",
    "    return (real_face_width * focal_length) * face_width_in_frame\n",
    "\n",
    "def focal_length_finder(measured_distance, real_width, width_in_rf_image):\n",
    "    focal_length = (width_in_rf_image * measured_distance) / real_width\n",
    "    return focal_length\n",
    "\n",
    "def face_data(image, face_detector):\n",
    "    face_width = 0\n",
    "    gray = cv2.cvtColor(image,  cv2.COLOR_BGR2GRAY)\n",
    "    faces = face_detector.detectMultiScale(gray, scaleFactor=1.2, minNeighbors=5)\n",
    "    \n",
    "    for (x, y, h, w) in faces:\n",
    "        cv2.rectangle(image, (x, y), (x+w, y+h), (0, 255, 0), 2)\n",
    "        face_width = w\n",
    "        \n",
    "    return face_width"
   ]
  },
  {
   "cell_type": "code",
   "execution_count": null,
   "metadata": {},
   "outputs": [],
   "source": [
    "known_distance = 40.0\n",
    "known_width = 14.0\n",
    "\n",
    "face_detector = cv2.CascadeClassifier(cv2.data.haarcascades + \"haarcascade_frontalface_default.xml\")\n",
    "\n",
    "ref_image = cv2.imread('../resources/search-dataset2/matusoka yositsugu1.jpg')\n",
    "ref_image_face_width = face_data(ref_image, face_detector)\n",
    "focal_length_found = focal_length_finder(known_distance, known_width, ref_image_face_width)\n",
    "\n",
    "print(focal_length_found)"
   ]
  },
  {
   "cell_type": "code",
   "execution_count": null,
   "metadata": {},
   "outputs": [],
   "source": [
    "cap = cv2.VideoCapture(0)\n",
    "while True:\n",
    "    _, frame = cap.read()\n",
    "    face_width_in_frame = face_data(frame, face_detector)\n",
    "    \n",
    "    if face_width_in_frame != 0:\n",
    "        dist = distance_finder(focal_length_found, known_width, face_width_in_frame)\n",
    "        \n",
    "        cv2.line(frame, (30, 30), (230, 30), (0, 0, 255), 32)\n",
    "        cv2.line(frame, (30, 30), (230, 30), 0, 28)\n",
    "        cv2.putText(frame, f\"distance: {round(dist, 2)} CM\", (30, 35), cv2.FONT_HERSHEY_SIMPLEX, 0.6, (0, 255, 0), 2)\n",
    "    \n",
    "    cv2.imshow('frame', frame)\n",
    "    if cv2.waitKey(1) == ord('q'):\n",
    "        break\n",
    "    \n",
    "cap.release()\n",
    "cv2.destroyAllWindows()\n"
   ]
  }
 ],
 "metadata": {
  "kernelspec": {
   "display_name": "Python 3.9.13 ('ml-env')",
   "language": "python",
   "name": "python3"
  },
  "language_info": {
   "codemirror_mode": {
    "name": "ipython",
    "version": 3
   },
   "file_extension": ".py",
   "mimetype": "text/x-python",
   "name": "python",
   "nbconvert_exporter": "python",
   "pygments_lexer": "ipython3",
   "version": "3.9.13"
  },
  "orig_nbformat": 4,
  "vscode": {
   "interpreter": {
    "hash": "22d82af33f03da296223e6f809e18aa0877c44b8d18707f5a9076a6c9918bbd4"
   }
  }
 },
 "nbformat": 4,
 "nbformat_minor": 2
}
