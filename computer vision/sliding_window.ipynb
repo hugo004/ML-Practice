{
 "cells": [
  {
   "cell_type": "markdown",
   "metadata": {},
   "source": [
    "# Reference\n",
    "https://pyimagesearch.com/2015/03/23/sliding-windows-for-object-detection-with-python-and-opencv/"
   ]
  },
  {
   "cell_type": "code",
   "execution_count": 1,
   "metadata": {},
   "outputs": [],
   "source": [
    "import imutils\n",
    "import cv2\n",
    "import time\n",
    "\n",
    "from matplotlib import pyplot as plt"
   ]
  },
  {
   "cell_type": "code",
   "execution_count": 2,
   "metadata": {},
   "outputs": [],
   "source": [
    "def pyramid(image, scale=1.5, min_size=(30, 30)):\n",
    "    yield image\n",
    "    \n",
    "    while True:\n",
    "        w = int(image.shape[1] / scale)\n",
    "        image = imutils.resize(image, width=w)\n",
    "        if image.shape[0] < min_size[1] or image.shape[1] < min_size[0]:\n",
    "            break\n",
    "        yield image\n",
    "\n",
    "def sliding_window(image, step_size, window_size):\n",
    "    for y in range(0,  image.shape[0], step_size):\n",
    "        for x in range(0, image.shape[1], step_size):\n",
    "            yield (x, y, image[y:y + window_size[1], x:x + window_size[0]])"
   ]
  },
  {
   "cell_type": "code",
   "execution_count": 3,
   "metadata": {},
   "outputs": [],
   "source": [
    "image = cv2.imread('../resources/color_transfer_sample2.jpg')\n",
    "win_w, win_h = 128, 128\n",
    "\n",
    "for resized in pyramid(image):\n",
    "    for (x, y, window) in sliding_window(resized, step_size=32, window_size=(win_w, win_h)):\n",
    "        if window.shape[0] != win_h or window.shape[1] != win_w:\n",
    "            continue\n",
    "        \n",
    "        #TODO: processing window, e.g image classify logic\n",
    "        \n",
    "        clone =resized.copy()\n",
    "        cv2.rectangle(clone, (x, y), (x + win_w, y + win_h), (0, 255, 0), 2)\n",
    "        cv2.imshow('window',clone)\n",
    "        cv2.waitKey(1)\n",
    "        time.sleep(0.025)"
   ]
  }
 ],
 "metadata": {
  "kernelspec": {
   "display_name": "Python 3.9.13 ('ml-env')",
   "language": "python",
   "name": "python3"
  },
  "language_info": {
   "codemirror_mode": {
    "name": "ipython",
    "version": 3
   },
   "file_extension": ".py",
   "mimetype": "text/x-python",
   "name": "python",
   "nbconvert_exporter": "python",
   "pygments_lexer": "ipython3",
   "version": "3.9.13"
  },
  "orig_nbformat": 4,
  "vscode": {
   "interpreter": {
    "hash": "22d82af33f03da296223e6f809e18aa0877c44b8d18707f5a9076a6c9918bbd4"
   }
  }
 },
 "nbformat": 4,
 "nbformat_minor": 2
}
